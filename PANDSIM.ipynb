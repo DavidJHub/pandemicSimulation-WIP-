{
 "cells": [
  {
   "cell_type": "code",
   "execution_count": 9,
   "metadata": {},
   "outputs": [],
   "source": [
    "import pandas as pd\n",
    "import numpy as np\n",
    "import matplotlib.pyplot as plt\n",
    "import scipy\n",
    "#import progressbar"
   ]
  },
  {
   "cell_type": "markdown",
   "metadata": {},
   "source": [
    "Este proyecto consiste en simular la evolución de una pandemia considerando las siguientes características: \n",
    "\n",
    "- El contagio depende de la proximidad a un infectado y de la probabilidad de contagio \n",
    "- Los infectados pueden infectar zonas que tienen probabilidad de contagio\n",
    "- Los casos con síntomas se aislarán después de un tiempo $T_{crit}$\n",
    "- El movimiento de los individuos viene dado por una caminata aleatoria en 2D. Sin embargo, también existen nodos a los que es mas probable que los individuos se dirijan\n",
    "- Despues de un tiempo $T_{crit}$ Los individuos guardarán cierta distancia\n",
    "- El aeropuerto es un nodo por el cual pueden llegar y salir infectados y no infectados, sin embargo este nodo se cierra en tiempo  $T_{crit}$"
   ]
  },
  {
   "cell_type": "markdown",
   "metadata": {},
   "source": [
    "# Clase ciudades\n",
    "\n",
    "Esta clase tendrá asignados los valores de tamaño, esto es, las fronteras sobre las cuales los individuos se pueden mover, la cantidad de nodos iniciales que tendrá (este valor no puede ser menor a 1) la población la cual va a ir cambiando siempre que el aeropuerto esté abierto y la susceptibilidad de viaje que es un valor entre 0 y 2, un valor menor a uno representa que la población es susceptible a inmigrar y un valor mayor a 1 representa que la población es susceptible a emigrar"
   ]
  },
  {
   "cell_type": "code",
   "execution_count": 10,
   "metadata": {},
   "outputs": [],
   "source": [
    "class ciudades:\n",
    "    def __init__(self,x0,y0,nodes0,pop0,sus0):\n",
    "        self.x=x0\n",
    "        self.y=y0\n",
    "        self.nodes=nodes0\n",
    "        self.pob=pop0\n",
    "        self.sus=sus0\n",
    "    def givedata(self):\n",
    "        city={ \"size\":[(self.x,self.y)],\"nodos\":[self.nodes],\"poblacion\":[self.pob],\"susceptibilidad\":[self.sus]}\n",
    "        df=pd.DataFrame(city)\n",
    "        return df,city\n",
    "    def givesize(self):\n",
    "        return self.x,self.y\n",
    "    "
   ]
  },
  {
   "cell_type": "code",
   "execution_count": 11,
   "metadata": {},
   "outputs": [],
   "source": [
    "def generate(N):\n",
    "    #cities=pd.DataFrame(columns = [\"size\",\"nodos\",\"poblacion\",\"susceptibilidad\"])\n",
    "    cities=[]\n",
    "    for i in range(N):\n",
    "        newx,newy=np.random.randint(400,800),np.random.randint(400,800)\n",
    "        populate=int(np.random.uniform(0.7,2)*(newx*newy)/40)\n",
    "        nnodes=int((populate/200))\n",
    "        vsus=np.random.normal(1,0.005)\n",
    "        name=\"city\" + str(i)\n",
    "        newcity=ciudades(newx,newy,nnodes,populate,vsus)\n",
    "        cities.append(newcity.givedata()[0])\n",
    "        #print(newcity.givedata())\n",
    "    ret=pd.concat(cities,ignore_index=True)\n",
    "    return ret\n",
    "    \n",
    "        \n",
    "            \n",
    "        \n",
    "        "
   ]
  },
  {
   "cell_type": "code",
   "execution_count": 12,
   "metadata": {},
   "outputs": [
    {
     "data": {
      "text/html": [
       "<div>\n",
       "<style scoped>\n",
       "    .dataframe tbody tr th:only-of-type {\n",
       "        vertical-align: middle;\n",
       "    }\n",
       "\n",
       "    .dataframe tbody tr th {\n",
       "        vertical-align: top;\n",
       "    }\n",
       "\n",
       "    .dataframe thead th {\n",
       "        text-align: right;\n",
       "    }\n",
       "</style>\n",
       "<table border=\"1\" class=\"dataframe\">\n",
       "  <thead>\n",
       "    <tr style=\"text-align: right;\">\n",
       "      <th></th>\n",
       "      <th>size</th>\n",
       "      <th>nodos</th>\n",
       "      <th>poblacion</th>\n",
       "      <th>susceptibilidad</th>\n",
       "    </tr>\n",
       "  </thead>\n",
       "  <tbody>\n",
       "    <tr>\n",
       "      <th>0</th>\n",
       "      <td>(502, 596)</td>\n",
       "      <td>58</td>\n",
       "      <td>11624</td>\n",
       "      <td>1.018410</td>\n",
       "    </tr>\n",
       "    <tr>\n",
       "      <th>1</th>\n",
       "      <td>(602, 762)</td>\n",
       "      <td>96</td>\n",
       "      <td>19352</td>\n",
       "      <td>1.003191</td>\n",
       "    </tr>\n",
       "    <tr>\n",
       "      <th>2</th>\n",
       "      <td>(492, 404)</td>\n",
       "      <td>26</td>\n",
       "      <td>5349</td>\n",
       "      <td>0.999792</td>\n",
       "    </tr>\n",
       "    <tr>\n",
       "      <th>3</th>\n",
       "      <td>(565, 576)</td>\n",
       "      <td>40</td>\n",
       "      <td>8166</td>\n",
       "      <td>0.996223</td>\n",
       "    </tr>\n",
       "    <tr>\n",
       "      <th>4</th>\n",
       "      <td>(521, 679)</td>\n",
       "      <td>62</td>\n",
       "      <td>12472</td>\n",
       "      <td>1.001583</td>\n",
       "    </tr>\n",
       "    <tr>\n",
       "      <th>5</th>\n",
       "      <td>(558, 593)</td>\n",
       "      <td>40</td>\n",
       "      <td>8176</td>\n",
       "      <td>1.005872</td>\n",
       "    </tr>\n",
       "    <tr>\n",
       "      <th>6</th>\n",
       "      <td>(475, 571)</td>\n",
       "      <td>40</td>\n",
       "      <td>8116</td>\n",
       "      <td>1.004518</td>\n",
       "    </tr>\n",
       "    <tr>\n",
       "      <th>7</th>\n",
       "      <td>(686, 764)</td>\n",
       "      <td>62</td>\n",
       "      <td>12598</td>\n",
       "      <td>1.001093</td>\n",
       "    </tr>\n",
       "    <tr>\n",
       "      <th>8</th>\n",
       "      <td>(573, 405)</td>\n",
       "      <td>49</td>\n",
       "      <td>9896</td>\n",
       "      <td>1.003515</td>\n",
       "    </tr>\n",
       "    <tr>\n",
       "      <th>9</th>\n",
       "      <td>(771, 463)</td>\n",
       "      <td>45</td>\n",
       "      <td>9150</td>\n",
       "      <td>0.997761</td>\n",
       "    </tr>\n",
       "    <tr>\n",
       "      <th>10</th>\n",
       "      <td>(489, 458)</td>\n",
       "      <td>47</td>\n",
       "      <td>9429</td>\n",
       "      <td>1.005583</td>\n",
       "    </tr>\n",
       "    <tr>\n",
       "      <th>11</th>\n",
       "      <td>(634, 763)</td>\n",
       "      <td>47</td>\n",
       "      <td>9443</td>\n",
       "      <td>0.998391</td>\n",
       "    </tr>\n",
       "    <tr>\n",
       "      <th>12</th>\n",
       "      <td>(432, 781)</td>\n",
       "      <td>63</td>\n",
       "      <td>12604</td>\n",
       "      <td>1.010232</td>\n",
       "    </tr>\n",
       "    <tr>\n",
       "      <th>13</th>\n",
       "      <td>(678, 692)</td>\n",
       "      <td>68</td>\n",
       "      <td>13719</td>\n",
       "      <td>0.999759</td>\n",
       "    </tr>\n",
       "    <tr>\n",
       "      <th>14</th>\n",
       "      <td>(591, 546)</td>\n",
       "      <td>35</td>\n",
       "      <td>7091</td>\n",
       "      <td>0.996475</td>\n",
       "    </tr>\n",
       "    <tr>\n",
       "      <th>15</th>\n",
       "      <td>(769, 502)</td>\n",
       "      <td>84</td>\n",
       "      <td>16949</td>\n",
       "      <td>0.995955</td>\n",
       "    </tr>\n",
       "    <tr>\n",
       "      <th>16</th>\n",
       "      <td>(787, 473)</td>\n",
       "      <td>71</td>\n",
       "      <td>14325</td>\n",
       "      <td>0.997993</td>\n",
       "    </tr>\n",
       "    <tr>\n",
       "      <th>17</th>\n",
       "      <td>(755, 762)</td>\n",
       "      <td>116</td>\n",
       "      <td>23369</td>\n",
       "      <td>1.000997</td>\n",
       "    </tr>\n",
       "    <tr>\n",
       "      <th>18</th>\n",
       "      <td>(761, 600)</td>\n",
       "      <td>105</td>\n",
       "      <td>21096</td>\n",
       "      <td>1.002138</td>\n",
       "    </tr>\n",
       "    <tr>\n",
       "      <th>19</th>\n",
       "      <td>(623, 515)</td>\n",
       "      <td>36</td>\n",
       "      <td>7215</td>\n",
       "      <td>1.002779</td>\n",
       "    </tr>\n",
       "  </tbody>\n",
       "</table>\n",
       "</div>"
      ],
      "text/plain": [
       "          size  nodos  poblacion  susceptibilidad\n",
       "0   (502, 596)     58      11624         1.018410\n",
       "1   (602, 762)     96      19352         1.003191\n",
       "2   (492, 404)     26       5349         0.999792\n",
       "3   (565, 576)     40       8166         0.996223\n",
       "4   (521, 679)     62      12472         1.001583\n",
       "5   (558, 593)     40       8176         1.005872\n",
       "6   (475, 571)     40       8116         1.004518\n",
       "7   (686, 764)     62      12598         1.001093\n",
       "8   (573, 405)     49       9896         1.003515\n",
       "9   (771, 463)     45       9150         0.997761\n",
       "10  (489, 458)     47       9429         1.005583\n",
       "11  (634, 763)     47       9443         0.998391\n",
       "12  (432, 781)     63      12604         1.010232\n",
       "13  (678, 692)     68      13719         0.999759\n",
       "14  (591, 546)     35       7091         0.996475\n",
       "15  (769, 502)     84      16949         0.995955\n",
       "16  (787, 473)     71      14325         0.997993\n",
       "17  (755, 762)    116      23369         1.000997\n",
       "18  (761, 600)    105      21096         1.002138\n",
       "19  (623, 515)     36       7215         1.002779"
      ]
     },
     "execution_count": 12,
     "metadata": {},
     "output_type": "execute_result"
    }
   ],
   "source": [
    "generate(20)"
   ]
  },
  {
   "cell_type": "code",
   "execution_count": 13,
   "metadata": {},
   "outputs": [],
   "source": [
    "class persona:\n",
    "    def __init__(self,ciudad0,x0,y0,nodosasociados0,infec0,condclinicas0):\n",
    "        self.ciudad=ciudad0\n",
    "        self.x=x0\n",
    "        self.y=y0\n",
    "        self.nodosasociados=nodosasociados0\n",
    "        self.infec0=False\n",
    "        self.edad=np.random.normal(35,10)\n",
    "        condclinicas=np.random.choice([True,False],p=[0.9,0.1])"
   ]
  },
  {
   "cell_type": "code",
   "execution_count": null,
   "metadata": {},
   "outputs": [],
   "source": []
  },
  {
   "cell_type": "code",
   "execution_count": 14,
   "metadata": {},
   "outputs": [
    {
     "data": {
      "text/html": [
       "<div>\n",
       "<style scoped>\n",
       "    .dataframe tbody tr th:only-of-type {\n",
       "        vertical-align: middle;\n",
       "    }\n",
       "\n",
       "    .dataframe tbody tr th {\n",
       "        vertical-align: top;\n",
       "    }\n",
       "\n",
       "    .dataframe thead th {\n",
       "        text-align: right;\n",
       "    }\n",
       "</style>\n",
       "<table border=\"1\" class=\"dataframe\">\n",
       "  <thead>\n",
       "    <tr style=\"text-align: right;\">\n",
       "      <th></th>\n",
       "      <th>size</th>\n",
       "      <th>nodos</th>\n",
       "      <th>poblacion</th>\n",
       "      <th>susceptibilidad</th>\n",
       "    </tr>\n",
       "  </thead>\n",
       "  <tbody>\n",
       "    <tr>\n",
       "      <th>0</th>\n",
       "      <td>(637, 587)</td>\n",
       "      <td>81</td>\n",
       "      <td>16273</td>\n",
       "      <td>0.995020</td>\n",
       "    </tr>\n",
       "    <tr>\n",
       "      <th>1</th>\n",
       "      <td>(558, 711)</td>\n",
       "      <td>83</td>\n",
       "      <td>16632</td>\n",
       "      <td>1.002481</td>\n",
       "    </tr>\n",
       "    <tr>\n",
       "      <th>2</th>\n",
       "      <td>(650, 481)</td>\n",
       "      <td>74</td>\n",
       "      <td>14948</td>\n",
       "      <td>1.005849</td>\n",
       "    </tr>\n",
       "    <tr>\n",
       "      <th>3</th>\n",
       "      <td>(707, 777)</td>\n",
       "      <td>130</td>\n",
       "      <td>26177</td>\n",
       "      <td>0.991549</td>\n",
       "    </tr>\n",
       "  </tbody>\n",
       "</table>\n",
       "</div>"
      ],
      "text/plain": [
       "         size  nodos  poblacion  susceptibilidad\n",
       "0  (637, 587)     81      16273         0.995020\n",
       "1  (558, 711)     83      16632         1.002481\n",
       "2  (650, 481)     74      14948         1.005849\n",
       "3  (707, 777)    130      26177         0.991549"
      ]
     },
     "execution_count": 14,
     "metadata": {},
     "output_type": "execute_result"
    }
   ],
   "source": [
    "Checkpoint=generate(4)\n",
    "Checkpoint"
   ]
  },
  {
   "cell_type": "code",
   "execution_count": 15,
   "metadata": {},
   "outputs": [
    {
     "data": {
      "text/plain": [
       "size               (558, 711)\n",
       "nodos                      83\n",
       "poblacion               16632\n",
       "susceptibilidad       1.00248\n",
       "Name: 1, dtype: object"
      ]
     },
     "execution_count": 15,
     "metadata": {},
     "output_type": "execute_result"
    }
   ],
   "source": [
    "Checkpoint.loc[1]"
   ]
  },
  {
   "cell_type": "code",
   "execution_count": 57,
   "metadata": {},
   "outputs": [],
   "source": [
    "import networkx as nx\n",
    "from networkx.algorithms import community\n",
    "\n",
    "\n",
    "def parserWithList(rules):\n",
    "    executing=True\n",
    "    dictionary={\"rawinputs\":rules}\n",
    "    rules=pd.DataFrame(dictionary)\n",
    "    rules[[\"inputs\",\"outputs\"]]=rules[\"rawinputs\"].str.split(\" TO \", expand=True)\n",
    "    rules.drop(columns=[\"rawinputs\"],inplace=True)\n",
    "    rules[[\"input state\"]]=rules[\"inputs\"].str.split(\",\", expand=True)\n",
    "    rules[[\"output state\",\"probability\"]]=rules[\"outputs\"].str.split(\",\", expand=True)\n",
    "    rules.drop(columns=[\"inputs\",\"outputs\"],inplace=True)\n",
    "    rules\n",
    "    return rules\n",
    "\n",
    "\n",
    "def GenerateSetOfRules(n,nbOfStates):\n",
    "    x=[]\n",
    "    createStates=[\"q\"+str(i) for i in range(nbOfStates)]\n",
    "    for i in range(n):\n",
    "        \n",
    "        string   =    (np.random.choice(createStates)\n",
    "                       + \" TO \" \n",
    "                       + np.random.choice(createStates)\n",
    "                       + \",\"\n",
    "                       + str(np.around(np.random.random(),1)))\n",
    "        x.append(string)\n",
    "    return(x)\n",
    "\n",
    "def DrawGraph(rules):\n",
    "    nodes = [rules[\"input state\"][i] for i in range(len(rules.index))]\n",
    "    edges = [(rules[\"input state\"][i],rules[\"output state\"][i]) for i in range(len(rules.index))]\n",
    "    #edgenames=[rules[\"char write\"][i]+\",\"+rules[\"direction\"][i]+\",\"+rules[\"probability\"][i] for i in range(len(rules.index))]\n",
    "    G= nx.DiGraph()\n",
    "    G.add_nodes_from(nodes)\n",
    "    G.add_edges_from(edges)\n",
    "    print(nx.info(G))\n",
    "    positions=nx.spring_layout(G)\n",
    "    #edgesn=dict(zip(edges,zip(edgenames)))\n",
    "    nx.draw_networkx_edges(G,positions)\n",
    "    nx.draw_networkx_nodes(G, positions, node_size=1000, node_color=\"#210070\", alpha=0.5)\n",
    "    nx.drawing.nx_pylab.draw_networkx_labels(G,positions)\n",
    "    return G\n",
    "    #nx.drawing.nx_pylab.draw_networkx_edge_labels(G,positions,edge_labels=edgesn)"
   ]
  },
  {
   "cell_type": "code",
   "execution_count": 106,
   "metadata": {},
   "outputs": [],
   "source": [
    "sets=GenerateSetOfRules(16,8)"
   ]
  },
  {
   "cell_type": "code",
   "execution_count": 107,
   "metadata": {},
   "outputs": [
    {
     "name": "stdout",
     "output_type": "stream",
     "text": [
      "Name: \n",
      "Type: DiGraph\n",
      "Number of nodes: 8\n",
      "Number of edges: 14\n",
      "Average in degree:   1.7500\n",
      "Average out degree:   1.7500\n"
     ]
    },
    {
     "data": {
      "image/png": "[encoded data removed]",
      "text/plain": [
       "<Figure size 432x288 with 1 Axes>"
      ]
     },
     "metadata": {},
     "output_type": "display_data"
    }
   ],
   "source": [
    "grafo=DrawGraph(parserWithList(sets))"
   ]
  },
  {
   "cell_type": "code",
   "execution_count": 108,
   "metadata": {},
   "outputs": [],
   "source": [
    "eigencentral=nx.eigenvector_centrality(grafo)\n",
    "katzcentral=nx.katz_centrality(grafo)\n",
    "pgrank=nx.pagerank(grafo)\n",
    "close=nx.closeness_centrality(grafo)\n",
    "\n"
   ]
  },
  {
   "cell_type": "code",
   "execution_count": 109,
   "metadata": {},
   "outputs": [
    {
     "data": {
      "text/plain": [
       "<BarContainer object of 8 artists>"
      ]
     },
     "execution_count": 109,
     "metadata": {},
     "output_type": "execute_result"
    },
    {
     "data": {
      "image/png": "[encoded data removed]",
      "text/plain": [
       "<Figure size 1080x1080 with 4 Axes>"
      ]
     },
     "metadata": {
      "needs_background": "light"
     },
     "output_type": "display_data"
    }
   ],
   "source": [
    "plt.figure(figsize=(15,15))\n",
    "plt.subplot(2,2,1)\n",
    "plt.title(\"Eigencentralidad\")\n",
    "plt.bar(list(eigencentral.keys()), eigencentral.values(), color='g')\n",
    "plt.subplot(2,2,2)\n",
    "plt.title(\"Katz\")\n",
    "plt.bar(list(katzcentral.keys()), katzcentral.values(), color='r')\n",
    "plt.subplot(2,2,3)\n",
    "plt.title(\"PageRank\")\n",
    "plt.bar(list(pgrank.keys()), pgrank.values(), color='b')\n",
    "plt.subplot(2,2,4)\n",
    "plt.title(\"Closeness\")\n",
    "plt.bar(list(close.keys()), close.values(), color='cyan')\n",
    "\n"
   ]
  },
  {
   "cell_type": "code",
   "execution_count": null,
   "metadata": {},
   "outputs": [],
   "source": []
  },
  {
   "cell_type": "code",
   "execution_count": null,
   "metadata": {},
   "outputs": [],
   "source": []
  }
 ],
 "metadata": {
  "kernelspec": {
   "display_name": "Python 3",
   "language": "python",
   "name": "python3"
  },
  "language_info": {
   "codemirror_mode": {
    "name": "ipython",
    "version": 3
   },
   "file_extension": ".py",
   "mimetype": "text/x-python",
   "name": "python",
   "nbconvert_exporter": "python",
   "pygments_lexer": "ipython3",
   "version": "3.8.3"
  }
 },
 "nbformat": 4,
 "nbformat_minor": 2
}
